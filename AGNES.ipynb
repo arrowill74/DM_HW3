{
 "cells": [
  {
   "cell_type": "code",
   "execution_count": 19,
   "metadata": {
    "scrolled": true
   },
   "outputs": [
    {
     "name": "stdout",
     "output_type": "stream",
     "text": [
      "(27196, 17)\n",
      "SEASON YEAR                     int64\n",
      "WEEK                            int64\n",
      "TEST ID                         int64\n",
      "BLOCK                          object\n",
      "TRAP                           object\n",
      "TRAP_TYPE                      object\n",
      "TEST DATE                       int64\n",
      "NUMBER OF MOSQUITOES            int64\n",
      "RESULT                         object\n",
      "SPECIES                        object\n",
      "LATITUDE                      float64\n",
      "LONGITUDE                     float64\n",
      "Wards                         float64\n",
      "Census Tracts                 float64\n",
      "Zip Codes                     float64\n",
      "Community Areas               float64\n",
      "Historical Wards 2003-2015    float64\n",
      "dtype: object\n",
      "{'TRAP': {0: '220A', 1: 'T001', 2: 'T002', 3: 'T002A', 4: 'T002B', 5: 'T003', 6: 'T004', 7: 'T005', 8: 'T006', 9: 'T007', 10: 'T008', 11: 'T009', 12: 'T009B', 13: 'T011', 14: 'T012', 15: 'T013', 16: 'T014', 17: 'T015', 18: 'T016', 19: 'T017', 20: 'T018', 21: 'T019', 22: 'T025', 23: 'T027', 24: 'T028', 25: 'T028B', 26: 'T030', 27: 'T030B', 28: 'T031', 29: 'T033', 30: 'T034', 31: 'T035', 32: 'T036', 33: 'T037', 34: 'T039', 35: 'T040', 36: 'T043', 37: 'T044', 38: 'T045', 39: 'T046', 40: 'T046B', 41: 'T047', 42: 'T048', 43: 'T049', 44: 'T050', 45: 'T051', 46: 'T054', 47: 'T054A', 48: 'T054B', 49: 'T054C', 50: 'T060', 51: 'T061', 52: 'T062', 53: 'T063', 54: 'T063B', 55: 'T065', 56: 'T065A', 57: 'T066', 58: 'T067', 59: 'T068', 60: 'T069', 61: 'T070', 62: 'T071', 63: 'T072', 64: 'T073', 65: 'T074', 66: 'T074B', 67: 'T075', 68: 'T076', 69: 'T077', 70: 'T078', 71: 'T079', 72: 'T080', 73: 'T081', 74: 'T082', 75: 'T083', 76: 'T084', 77: 'T085', 78: 'T086', 79: 'T087', 80: 'T088', 81: 'T089', 82: 'T090', 83: 'T090A', 84: 'T090B', 85: 'T090C', 86: 'T091', 87: 'T092', 88: 'T094', 89: 'T094B', 90: 'T095', 91: 'T095A', 92: 'T096', 93: 'T097', 94: 'T099', 95: 'T100', 96: 'T102', 97: 'T103', 98: 'T104', 99: 'T107', 100: 'T114', 101: 'T114B', 102: 'T115', 103: 'T128', 104: 'T128A', 105: 'T129', 106: 'T135', 107: 'T135B', 108: 'T138', 109: 'T138B', 110: 'T141', 111: 'T142', 112: 'T143', 113: 'T144', 114: 'T145', 115: 'T146', 116: 'T147', 117: 'T148', 118: 'T149', 119: 'T150', 120: 'T151', 121: 'T152', 122: 'T153', 123: 'T154', 124: 'T155', 125: 'T156', 126: 'T157', 127: 'T158', 128: 'T159', 129: 'T160', 130: 'T161', 131: 'T162', 132: 'T167', 133: 'T200', 134: 'T200A', 135: 'T200B', 136: 'T203', 137: 'T206', 138: 'T209', 139: 'T212', 140: 'T215', 141: 'T218', 142: 'T218A', 143: 'T218B', 144: 'T218C', 145: 'T219', 146: 'T220', 147: 'T221', 148: 'T222', 149: 'T223', 150: 'T224', 151: 'T225', 152: 'T226', 153: 'T227', 154: 'T228', 155: 'T229', 156: 'T230', 157: 'T231', 158: 'T232', 159: 'T233', 160: 'T234', 161: 'T235', 162: 'T236', 163: 'T237', 164: 'T238', 165: 'T240', 166: 'T240B', 167: 'T241', 168: 'T242', 169: 'T900', 170: 'T901', 171: 'T902', 172: 'T903', 173: 'T904', 174: 'T905', 175: 'T906', 176: 'T907', 177: 'T908', 178: 'T909', 179: 'T910', 180: 'T911', 181: 'T912', 182: 'T913', 183: 'T914', 184: 'T915', 185: 'T916', 186: 'T917', 187: 'T918', 188: 'T920', 189: 'T921', 190: 'T923', 191: 'T924', 192: 'T925'}, 'BLOCK': {0: '100XX W OHARE', 1: '100XX W OHARE AIRPORT', 2: '101XX S STONY ISLAND AVE', 3: '104XX S OGLESBY AVE', 4: '104XX S VINCENNES AVE', 5: '104XX S WALLACE ST', 6: '105XX S CALIFORNIA AVE', 7: '109XX S COTTAGE GROVE AVE', 8: '10XX E 67TH ST', 9: '10XX W 95TH ST', 10: '111XX S ARTESIAN AVE', 11: '112XX S WALLACE ST', 12: '115XX S AVENUE L', 13: '115XX S LOOMIS ST', 14: '119XX S ASHLAND AVE', 15: '119XX S PEORIA ST', 16: '119XX S STATE ST', 17: '11XX S CALIFORNIA AVE', 18: '11XX W CHICAGO AVE', 19: '11XX W ROOSEVELT RD', 20: '122XX S STONY ISLAND AVE', 21: '127XX S DOTY AVE', 22: '129XX S BALTIMORE AVE', 23: '12XX W 120TH ST', 24: '12XX W GREENLEAF AVE', 25: '131XX S BRANDON AVE', 26: '131XX S TORRENCE AVE', 27: '132XX S MACKINAW AVE', 28: '13XX N LARAMIE AVE', 29: '14XX N HUMBOLDT DR', 30: '14XX W 112TH ST', 31: '15XX N LONG AVE', 32: '15XX W GRANVILLE AVE', 33: '15XX W WEBSTER AVE', 34: '17XX N ASHLAND AVE', 35: '17XX N PULASKI RD', 36: '17XX W 95TH ST', 37: '17XX W ADDISON ST', 38: '18XX W FARWELL AVE', 39: '18XX W LELAND AVE', 40: '1XX N CENTRAL PARK DR', 41: '20XX N DOMINICK ST', 42: '21XX N CANNON DR', 43: '21XX N LAWLER AVE', 44: '21XX N STAVE ST', 45: '21XX S HAMLIN AVE', 46: '22XX N CANNON DR', 47: '22XX W 113TH ST', 48: '22XX W 51ST ST', 49: '22XX W 69TH ST', 50: '22XX W PERSHING RD', 51: '24XX E 105TH ST', 52: '25XX S MILLARD AVE', 53: '25XX S THROOP ST', 54: '25XX W GRAND AVE', 55: '26XX E 136TH ST', 56: '27XX S WESTERN AVE', 57: '28XX N FRANCISCO AVE', 58: '29XX N KENNETH AVE', 59: '29XX W 85TH ST', 60: '2XX E 111TH ST', 61: '2XX W 89TH ST', 62: '30XX S HOYNE', 63: '33XX N RUTHERFORD AVE', 64: '34XX N LONG AVE', 65: '34XX W 77TH ST', 66: '35XX W 116TH ST', 67: '35XX W 51ST ST', 68: '36XX N PITTSBURGH AVE', 69: '37XX E 118TH ST', 70: '37XX N KEDVALE AVE', 71: '37XX N KILBOURN AVE', 72: '37XX S PULASKI RD', 73: '38XX E 115TH ST', 74: '38XX N CALIFORNIA AVE', 75: '39XX N SPRINGFIELD AVE', 76: '39XX S ASHLAND AVE', 77: '3XX E RANDOLPH ST', 78: '3XX W 104TH ST', 79: '3XX W 18TH ST', 80: '40XX N AUSTIN AVE', 81: '40XX N KEDVALE AVE', 82: '40XX N TRIPP AVE', 83: '40XX S DEARBORN ST', 84: '41XX N OAK PARK AVE', 85: '42XX N RICHMOND ST', 86: '42XX W 31ST ST', 87: '42XX W 65TH ST', 88: '43XX N ASHLAND', 89: '45XX N CAMPBELL AVE', 90: '46XX N MELVINA AVE', 91: '46XX N MILWAUKEE AVE', 92: '47XX S CORNELL AVE', 93: '48XX W MONTANA ST', 94: '49XX W BALMORAL AVE', 95: '49XX W SUNNYSIDE AVE', 96: '4XX E 130TH ST', 97: '4XX W 127TH', 98: '4XX W 127TH ST', 99: '50XX S UNION AVE', 100: '51XX N MONT CLARE AVE', 101: '51XX W 63RD PL', 102: '52XX S KOLMAR AVE', 103: '52XX S NORDICA AVE', 104: '52XX W 63RD ST', 105: '53XX W AGATITE AVE', 106: '54XX W PARKER AVE', 107: '55XX S DR MARTIN LUTHER KING JR DR', 108: '55XX S NARRAGANSETT AVE', 109: '58XX N PULASKI RD', 110: '58XX N RIDGE AVE', 111: '58XX N WESTERN AVE', 112: '5XX N STREETER DR', 113: '5XX S CENTRAL AVE', 114: '5XX W 72ND ST', 115: '60XX N AVONDALE AVE', 116: '60XX W ROSCOE ST', 117: '61XX N LEMONT AVE', 118: '61XX S MELVINA AVE', 119: '61XX W FULLERTON AVE', 120: '62XX N MANDELL AVE', 121: '62XX N MCCLELLAN AVE', 122: '63XX W 64TH ST', 123: '64XX S STONY ISLAND AVE', 124: '64XX W STRONG ST', 125: '65XX N OAK PARK AVE', 126: '65XX S RACINE AVE', 127: '65XX W DAKIN ST', 128: '66XX S KILPATRICK AVE', 129: '67XX S KEDZIE AVE', 130: '68XX W BELDEN AVE', 131: '6XX E 91ST PL', 132: '6XX W MONTROSE DR', 133: '70XX N MOSELLE AVE', 134: '70XX W ARMITAGE AVE', 135: '71XX N HARLEM AVE', 136: '71XX S SOUTH SHORE DR', 137: '72XX N OKETO AVE', 138: '73XX S CICERO AVE', 139: '75XX N OAKLEY AVE', 140: '77XX S EBERHART AVE', 141: '79XX S CHICAGO', 142: '79XX W FOSTER AVE', 143: '80XX S KEDZIE AVE', 144: '81XX S ASHLAND', 145: '82XX S KOSTNER AVE', 146: '88XX W HIGGINS RD', 147: '89XX S CARPENTER ST', 148: '89XX S MUSKEGON AVE', 149: '8XX E 138TH ST', 150: '8XX E 91ST ST', 151: '8XX W 37TH PL', 152: '91XX W HIGGINS RD', 153: '93XX S DR MARTIN LUTHER KING JR DR', 154: '96XX S HOYNE AVE', 155: '96XX S LONGWOOD DR', 156: '98XX S AVENUE G', 157: '9XX W GARFIELD BLVD'}, 'TRAP_TYPE': {0: 'CDC', 1: 'GRAVID', 2: 'OVI', 3: 'SENTINEL'}, 'RESULT': {0: 'negative', 1: 'positive'}, 'SPECIES': {0: 'CULEX ERRATICUS', 1: 'CULEX PIPIENS', 2: 'CULEX PIPIENS/RESTUANS', 3: 'CULEX RESTUANS', 4: 'CULEX SALINARIUS', 5: 'CULEX TARSALIS', 6: 'CULEX TERRITANS', 7: 'UNSPECIFIED CULEX'}}\n",
      "(23086, 17)\n",
      "SEASON YEAR                     int64\n",
      "WEEK                            int64\n",
      "TEST ID                         int64\n",
      "BLOCK                           int16\n",
      "TRAP                            int16\n",
      "TRAP_TYPE                        int8\n",
      "TEST DATE                       int64\n",
      "NUMBER OF MOSQUITOES            int64\n",
      "RESULT                           int8\n",
      "SPECIES                          int8\n",
      "LATITUDE                      float64\n",
      "LONGITUDE                     float64\n",
      "Wards                         float64\n",
      "Census Tracts                 float64\n",
      "Zip Codes                     float64\n",
      "Community Areas               float64\n",
      "Historical Wards 2003-2015    float64\n",
      "dtype: object\n",
      "   SEASON YEAR  WEEK  TEST ID  BLOCK  TRAP  TRAP_TYPE  TEST DATE  \\\n",
      "1         2018    39    47720    114    31          1   20180927   \n",
      "3         2018    39    47707     40    27          3   20180927   \n",
      "4         2018    39    47733     25   138          1   20180927   \n",
      "6         2018    39    47719     87   161          1   20180927   \n",
      "7         2018    39    47730     21   102          1   20180927   \n",
      "\n",
      "   NUMBER OF MOSQUITOES  RESULT  SPECIES   LATITUDE  LONGITUDE  Wards  \\\n",
      "1                     9       0        2  41.763371 -87.637873   32.0   \n",
      "3                    23       0        1  41.883711 -87.716092   23.0   \n",
      "4                     2       0        3  41.657069 -87.546049   47.0   \n",
      "6                     3       0        2  41.774841 -87.728006   15.0   \n",
      "7                     5       0        2  41.662387 -87.590180   47.0   \n",
      "\n",
      "   Census Tracts  Zip Codes  Community Areas  Historical Wards 2003-2015  \n",
      "1          511.0    21559.0             66.0                        17.0  \n",
      "3          176.0    21572.0             28.0                        11.0  \n",
      "4          787.0    22250.0             52.0                        47.0  \n",
      "6            6.0    21867.0             63.0                        23.0  \n",
      "7          174.0    22250.0             48.0                        47.0  \n",
      "[[ 2.01800000e+03  3.90000000e+01  4.77200000e+04  1.14000000e+02\n",
      "   3.10000000e+01  1.00000000e+00  2.01809270e+07  9.00000000e+00\n",
      "   0.00000000e+00  2.00000000e+00  4.17633709e+01 -8.76378726e+01\n",
      "   3.20000000e+01  5.11000000e+02  2.15590000e+04  6.60000000e+01\n",
      "   1.70000000e+01]]\n"
     ]
    }
   ],
   "source": [
    "from sklearn import datasets\n",
    "from sklearn.cluster import AgglomerativeClustering\n",
    "import matplotlib.pyplot as plt\n",
    "from sklearn.metrics import confusion_matrix\n",
    "import pandas as pd\n",
    "import numpy as np\n",
    "\n",
    "dic = {}\n",
    "df = pd.read_csv('./chicago-west-nile-virus-mosquito-test-results/west-nile-virus-wnv-mosquito-test-results.csv', encoding=\"utf-8\")\n",
    "df = df.drop(columns = 'LOCATION') # 已有LATITUDE,LONGITUDE欄位\n",
    "df['TEST DATE'] = df['TEST DATE'].str.split('T').str[0].str.replace('-', '') # 去掉時間轉為純日期字串\n",
    "df['TEST DATE'] = df['TEST DATE'].astype('int64') # 字串轉為 int\n",
    "nonNumCol = ['TRAP', 'BLOCK', 'TRAP_TYPE', 'RESULT', 'SPECIES'] # 非數字欄位\n",
    "print(df.shape) # (27196, 17)\n",
    "print(df.dtypes)\n",
    "# 將欄位轉為數值資料\n",
    "for col in nonNumCol:\n",
    "    df[col] = df[col].astype('category')\n",
    "    dic[col] = dict(enumerate(df[col].cat.categories)) # 類別對照dict\n",
    "    df[col] = df[col].cat.codes\n",
    "df = df.dropna() # 去除有空值的row\n",
    "print(dic)\n",
    "print(df.shape) # (23086, 17)\n",
    "print(df.dtypes)\n",
    "print(df.head())\n",
    "data = df.to_numpy() # to numpy array\n",
    "print(data[:1])"
   ]
  },
  {
   "cell_type": "code",
   "execution_count": 21,
   "metadata": {},
   "outputs": [
    {
     "ename": "MemoryError",
     "evalue": "",
     "output_type": "error",
     "traceback": [
      "\u001b[1;31m---------------------------------------------------------------------------\u001b[0m",
      "\u001b[1;31mMemoryError\u001b[0m                               Traceback (most recent call last)",
      "\u001b[1;32m<ipython-input-21-538622cef7e8>\u001b[0m in \u001b[0;36m<module>\u001b[1;34m\u001b[0m\n\u001b[0;32m      1\u001b[0m \u001b[0mclustering\u001b[0m \u001b[1;33m=\u001b[0m \u001b[0mAgglomerativeClustering\u001b[0m\u001b[1;33m(\u001b[0m\u001b[0mn_clusters\u001b[0m \u001b[1;33m=\u001b[0m \u001b[1;36m10\u001b[0m\u001b[1;33m)\u001b[0m\u001b[1;33m\u001b[0m\u001b[1;33m\u001b[0m\u001b[0m\n\u001b[1;32m----> 2\u001b[1;33m \u001b[0mresult\u001b[0m \u001b[1;33m=\u001b[0m \u001b[0mclustering\u001b[0m\u001b[1;33m.\u001b[0m\u001b[0mfit\u001b[0m\u001b[1;33m(\u001b[0m\u001b[0mdata\u001b[0m\u001b[1;33m)\u001b[0m\u001b[1;33m\u001b[0m\u001b[1;33m\u001b[0m\u001b[0m\n\u001b[0m",
      "\u001b[1;32mc:\\users\\tonylab\\appdata\\local\\programs\\python\\python37-32\\lib\\site-packages\\sklearn\\cluster\\hierarchical.py\u001b[0m in \u001b[0;36mfit\u001b[1;34m(self, X, y)\u001b[0m\n\u001b[0;32m    829\u001b[0m             memory.cache(tree_builder)(X, connectivity,\n\u001b[0;32m    830\u001b[0m                                        \u001b[0mn_clusters\u001b[0m\u001b[1;33m=\u001b[0m\u001b[0mn_clusters\u001b[0m\u001b[1;33m,\u001b[0m\u001b[1;33m\u001b[0m\u001b[1;33m\u001b[0m\u001b[0m\n\u001b[1;32m--> 831\u001b[1;33m                                        **kwargs)\n\u001b[0m\u001b[0;32m    832\u001b[0m         \u001b[1;31m# Cut the tree\u001b[0m\u001b[1;33m\u001b[0m\u001b[1;33m\u001b[0m\u001b[1;33m\u001b[0m\u001b[0m\n\u001b[0;32m    833\u001b[0m         \u001b[1;32mif\u001b[0m \u001b[0mcompute_full_tree\u001b[0m\u001b[1;33m:\u001b[0m\u001b[1;33m\u001b[0m\u001b[1;33m\u001b[0m\u001b[0m\n",
      "\u001b[1;32mc:\\users\\tonylab\\appdata\\local\\programs\\python\\python37-32\\lib\\site-packages\\sklearn\\externals\\joblib\\memory.py\u001b[0m in \u001b[0;36m__call__\u001b[1;34m(self, *args, **kwargs)\u001b[0m\n\u001b[0;32m    340\u001b[0m \u001b[1;33m\u001b[0m\u001b[0m\n\u001b[0;32m    341\u001b[0m     \u001b[1;32mdef\u001b[0m \u001b[0m__call__\u001b[0m\u001b[1;33m(\u001b[0m\u001b[0mself\u001b[0m\u001b[1;33m,\u001b[0m \u001b[1;33m*\u001b[0m\u001b[0margs\u001b[0m\u001b[1;33m,\u001b[0m \u001b[1;33m**\u001b[0m\u001b[0mkwargs\u001b[0m\u001b[1;33m)\u001b[0m\u001b[1;33m:\u001b[0m\u001b[1;33m\u001b[0m\u001b[1;33m\u001b[0m\u001b[0m\n\u001b[1;32m--> 342\u001b[1;33m         \u001b[1;32mreturn\u001b[0m \u001b[0mself\u001b[0m\u001b[1;33m.\u001b[0m\u001b[0mfunc\u001b[0m\u001b[1;33m(\u001b[0m\u001b[1;33m*\u001b[0m\u001b[0margs\u001b[0m\u001b[1;33m,\u001b[0m \u001b[1;33m**\u001b[0m\u001b[0mkwargs\u001b[0m\u001b[1;33m)\u001b[0m\u001b[1;33m\u001b[0m\u001b[1;33m\u001b[0m\u001b[0m\n\u001b[0m\u001b[0;32m    343\u001b[0m \u001b[1;33m\u001b[0m\u001b[0m\n\u001b[0;32m    344\u001b[0m     \u001b[1;32mdef\u001b[0m \u001b[0mcall_and_shelve\u001b[0m\u001b[1;33m(\u001b[0m\u001b[0mself\u001b[0m\u001b[1;33m,\u001b[0m \u001b[1;33m*\u001b[0m\u001b[0margs\u001b[0m\u001b[1;33m,\u001b[0m \u001b[1;33m**\u001b[0m\u001b[0mkwargs\u001b[0m\u001b[1;33m)\u001b[0m\u001b[1;33m:\u001b[0m\u001b[1;33m\u001b[0m\u001b[1;33m\u001b[0m\u001b[0m\n",
      "\u001b[1;32mc:\\users\\tonylab\\appdata\\local\\programs\\python\\python37-32\\lib\\site-packages\\sklearn\\cluster\\hierarchical.py\u001b[0m in \u001b[0;36mward_tree\u001b[1;34m(X, connectivity, n_clusters, return_distance)\u001b[0m\n\u001b[0;32m    232\u001b[0m                           stacklevel=2)\n\u001b[0;32m    233\u001b[0m         \u001b[0mX\u001b[0m \u001b[1;33m=\u001b[0m \u001b[0mnp\u001b[0m\u001b[1;33m.\u001b[0m\u001b[0mrequire\u001b[0m\u001b[1;33m(\u001b[0m\u001b[0mX\u001b[0m\u001b[1;33m,\u001b[0m \u001b[0mrequirements\u001b[0m\u001b[1;33m=\u001b[0m\u001b[1;34m\"W\"\u001b[0m\u001b[1;33m)\u001b[0m\u001b[1;33m\u001b[0m\u001b[1;33m\u001b[0m\u001b[0m\n\u001b[1;32m--> 234\u001b[1;33m         \u001b[0mout\u001b[0m \u001b[1;33m=\u001b[0m \u001b[0mhierarchy\u001b[0m\u001b[1;33m.\u001b[0m\u001b[0mward\u001b[0m\u001b[1;33m(\u001b[0m\u001b[0mX\u001b[0m\u001b[1;33m)\u001b[0m\u001b[1;33m\u001b[0m\u001b[1;33m\u001b[0m\u001b[0m\n\u001b[0m\u001b[0;32m    235\u001b[0m         \u001b[0mchildren_\u001b[0m \u001b[1;33m=\u001b[0m \u001b[0mout\u001b[0m\u001b[1;33m[\u001b[0m\u001b[1;33m:\u001b[0m\u001b[1;33m,\u001b[0m \u001b[1;33m:\u001b[0m\u001b[1;36m2\u001b[0m\u001b[1;33m]\u001b[0m\u001b[1;33m.\u001b[0m\u001b[0mastype\u001b[0m\u001b[1;33m(\u001b[0m\u001b[0mnp\u001b[0m\u001b[1;33m.\u001b[0m\u001b[0mintp\u001b[0m\u001b[1;33m)\u001b[0m\u001b[1;33m\u001b[0m\u001b[1;33m\u001b[0m\u001b[0m\n\u001b[0;32m    236\u001b[0m \u001b[1;33m\u001b[0m\u001b[0m\n",
      "\u001b[1;32mc:\\users\\tonylab\\appdata\\local\\programs\\python\\python37-32\\lib\\site-packages\\scipy\\cluster\\hierarchy.py\u001b[0m in \u001b[0;36mward\u001b[1;34m(y)\u001b[0m\n\u001b[0;32m    876\u001b[0m \u001b[1;33m\u001b[0m\u001b[0m\n\u001b[0;32m    877\u001b[0m     \"\"\"\n\u001b[1;32m--> 878\u001b[1;33m     \u001b[1;32mreturn\u001b[0m \u001b[0mlinkage\u001b[0m\u001b[1;33m(\u001b[0m\u001b[0my\u001b[0m\u001b[1;33m,\u001b[0m \u001b[0mmethod\u001b[0m\u001b[1;33m=\u001b[0m\u001b[1;34m'ward'\u001b[0m\u001b[1;33m,\u001b[0m \u001b[0mmetric\u001b[0m\u001b[1;33m=\u001b[0m\u001b[1;34m'euclidean'\u001b[0m\u001b[1;33m)\u001b[0m\u001b[1;33m\u001b[0m\u001b[1;33m\u001b[0m\u001b[0m\n\u001b[0m\u001b[0;32m    879\u001b[0m \u001b[1;33m\u001b[0m\u001b[0m\n\u001b[0;32m    880\u001b[0m \u001b[1;33m\u001b[0m\u001b[0m\n",
      "\u001b[1;32mc:\\users\\tonylab\\appdata\\local\\programs\\python\\python37-32\\lib\\site-packages\\scipy\\cluster\\hierarchy.py\u001b[0m in \u001b[0;36mlinkage\u001b[1;34m(y, method, metric, optimal_ordering)\u001b[0m\n\u001b[0;32m   1102\u001b[0m                          \u001b[1;34m'matrix looks suspiciously like an uncondensed '\u001b[0m\u001b[1;33m\u001b[0m\u001b[1;33m\u001b[0m\u001b[0m\n\u001b[0;32m   1103\u001b[0m                          'distance matrix')\n\u001b[1;32m-> 1104\u001b[1;33m         \u001b[0my\u001b[0m \u001b[1;33m=\u001b[0m \u001b[0mdistance\u001b[0m\u001b[1;33m.\u001b[0m\u001b[0mpdist\u001b[0m\u001b[1;33m(\u001b[0m\u001b[0my\u001b[0m\u001b[1;33m,\u001b[0m \u001b[0mmetric\u001b[0m\u001b[1;33m)\u001b[0m\u001b[1;33m\u001b[0m\u001b[1;33m\u001b[0m\u001b[0m\n\u001b[0m\u001b[0;32m   1105\u001b[0m     \u001b[1;32melse\u001b[0m\u001b[1;33m:\u001b[0m\u001b[1;33m\u001b[0m\u001b[1;33m\u001b[0m\u001b[0m\n\u001b[0;32m   1106\u001b[0m         \u001b[1;32mraise\u001b[0m \u001b[0mValueError\u001b[0m\u001b[1;33m(\u001b[0m\u001b[1;34m\"`y` must be 1 or 2 dimensional.\"\u001b[0m\u001b[1;33m)\u001b[0m\u001b[1;33m\u001b[0m\u001b[1;33m\u001b[0m\u001b[0m\n",
      "\u001b[1;32mc:\\users\\tonylab\\appdata\\local\\programs\\python\\python37-32\\lib\\site-packages\\scipy\\spatial\\distance.py\u001b[0m in \u001b[0;36mpdist\u001b[1;34m(X, metric, *args, **kwargs)\u001b[0m\n\u001b[0;32m   1983\u001b[0m     \u001b[0mout\u001b[0m \u001b[1;33m=\u001b[0m \u001b[0mkwargs\u001b[0m\u001b[1;33m.\u001b[0m\u001b[0mpop\u001b[0m\u001b[1;33m(\u001b[0m\u001b[1;34m\"out\"\u001b[0m\u001b[1;33m,\u001b[0m \u001b[1;32mNone\u001b[0m\u001b[1;33m)\u001b[0m\u001b[1;33m\u001b[0m\u001b[1;33m\u001b[0m\u001b[0m\n\u001b[0;32m   1984\u001b[0m     \u001b[1;32mif\u001b[0m \u001b[0mout\u001b[0m \u001b[1;32mis\u001b[0m \u001b[1;32mNone\u001b[0m\u001b[1;33m:\u001b[0m\u001b[1;33m\u001b[0m\u001b[1;33m\u001b[0m\u001b[0m\n\u001b[1;32m-> 1985\u001b[1;33m         \u001b[0mdm\u001b[0m \u001b[1;33m=\u001b[0m \u001b[0mnp\u001b[0m\u001b[1;33m.\u001b[0m\u001b[0mempty\u001b[0m\u001b[1;33m(\u001b[0m\u001b[1;33m(\u001b[0m\u001b[0mm\u001b[0m \u001b[1;33m*\u001b[0m \u001b[1;33m(\u001b[0m\u001b[0mm\u001b[0m \u001b[1;33m-\u001b[0m \u001b[1;36m1\u001b[0m\u001b[1;33m)\u001b[0m\u001b[1;33m)\u001b[0m \u001b[1;33m//\u001b[0m \u001b[1;36m2\u001b[0m\u001b[1;33m,\u001b[0m \u001b[0mdtype\u001b[0m\u001b[1;33m=\u001b[0m\u001b[0mnp\u001b[0m\u001b[1;33m.\u001b[0m\u001b[0mdouble\u001b[0m\u001b[1;33m)\u001b[0m\u001b[1;33m\u001b[0m\u001b[1;33m\u001b[0m\u001b[0m\n\u001b[0m\u001b[0;32m   1986\u001b[0m     \u001b[1;32melse\u001b[0m\u001b[1;33m:\u001b[0m\u001b[1;33m\u001b[0m\u001b[1;33m\u001b[0m\u001b[0m\n\u001b[0;32m   1987\u001b[0m         \u001b[1;32mif\u001b[0m \u001b[0mout\u001b[0m\u001b[1;33m.\u001b[0m\u001b[0mshape\u001b[0m \u001b[1;33m!=\u001b[0m \u001b[1;33m(\u001b[0m\u001b[0mm\u001b[0m \u001b[1;33m*\u001b[0m \u001b[1;33m(\u001b[0m\u001b[0mm\u001b[0m \u001b[1;33m-\u001b[0m \u001b[1;36m1\u001b[0m\u001b[1;33m)\u001b[0m \u001b[1;33m//\u001b[0m \u001b[1;36m2\u001b[0m\u001b[1;33m,\u001b[0m\u001b[1;33m)\u001b[0m\u001b[1;33m:\u001b[0m\u001b[1;33m\u001b[0m\u001b[1;33m\u001b[0m\u001b[0m\n",
      "\u001b[1;31mMemoryError\u001b[0m: "
     ]
    }
   ],
   "source": [
    "clustering = AgglomerativeClustering(n_clusters = 10)\n",
    "result = clustering.fit(data)"
   ]
  }
 ],
 "metadata": {
  "kernelspec": {
   "display_name": "Python 3",
   "language": "python",
   "name": "python3"
  },
  "language_info": {
   "codemirror_mode": {
    "name": "ipython",
    "version": 3
   },
   "file_extension": ".py",
   "mimetype": "text/x-python",
   "name": "python",
   "nbconvert_exporter": "python",
   "pygments_lexer": "ipython3",
   "version": "3.7.2"
  }
 },
 "nbformat": 4,
 "nbformat_minor": 2
}
