{
 "cells": [
  {
   "cell_type": "code",
   "execution_count": 1,
   "metadata": {
    "scrolled": true
   },
   "outputs": [],
   "source": [
    "from sklearn import datasets\n",
    "from sklearn.cluster import AgglomerativeClustering\n",
    "import matplotlib.pyplot as plt\n",
    "from sklearn.metrics import confusion_matrix\n",
    "import pandas as pd\n",
    "import numpy as np\n",
    "\n",
    "dic = {}\n",
    "df = pd.read_csv('./chicago-west-nile-virus-mosquito-test-results/west-nile-virus-wnv-mosquito-test-results.csv', encoding=\"utf-8\")\n",
    "df = df.drop(columns = 'LOCATION')\n",
    "df['TEST DATE'] = df['TEST DATE'].str.split('T').str[0].str.replace('-', '')\n",
    "nonNumCol = ['TRAP', 'BLOCK', 'TRAP_TYPE', 'RESULT', 'SPECIES']\n",
    "for col in nonNumCol:\n",
    "    df[col] = df[col].astype('category')\n",
    "    dic[col] = dict(enumerate(df[col].cat.categories))\n",
    "    df[col] = df[col].cat.codes\n",
    "df = df.dropna()\n",
    "data = df.to_numpy()\n",
    "\n",
    "# clustering3 = AgglomerativeClustering(linkage = 'single',  n_clusters = 10)\n",
    "# result = clustering3.fit(data)"
   ]
  },
  {
   "cell_type": "code",
   "execution_count": null,
   "metadata": {},
   "outputs": [],
   "source": [
    "iris = datasets.load_iris()\n",
    "irisdata = iris.data\n",
    "\n",
    "clustering = AgglomerativeClustering(linkage='ward', n_clusters=3)\n",
    "\n",
    "res = clustering.fit(irisdata)\n",
    "\n",
    "print (\"各個簇的樣本數目：\")\n",
    "print (pd.Series(clustering.labels_).value_counts())\n",
    "print (\"聚類結果：\")\n",
    "print (confusion_matrix(iris.target, clustering.labels_))\n",
    "\n",
    "plt.figure()\n",
    "d0 = irisdata[clustering.labels_ == 0]\n",
    "plt.plot(d0[:, 0], d0[:, 1], 'r.')\n",
    "d1 = irisdata[clustering.labels_ == 1]\n",
    "plt.plot(d1[:, 0], d1[:, 1], 'go')\n",
    "d2 = irisdata[clustering.labels_ == 2]\n",
    "plt.plot(d2[:, 0], d2[:, 1], 'b*')\n",
    "plt.xlabel(\"Sepal.Length\")\n",
    "plt.ylabel(\"Sepal.Width\")\n",
    "plt.title(\"AGNES Clustering\")\n",
    "plt.show()"
   ]
  }
 ],
 "metadata": {
  "kernelspec": {
   "display_name": "Python 3",
   "language": "python",
   "name": "python3"
  },
  "language_info": {
   "codemirror_mode": {
    "name": "ipython",
    "version": 3
   },
   "file_extension": ".py",
   "mimetype": "text/x-python",
   "name": "python",
   "nbconvert_exporter": "python",
   "pygments_lexer": "ipython3",
   "version": "3.7.2"
  }
 },
 "nbformat": 4,
 "nbformat_minor": 2
}
